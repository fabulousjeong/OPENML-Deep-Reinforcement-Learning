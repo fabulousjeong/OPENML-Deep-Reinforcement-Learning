{
 "cells": [
  {
   "cell_type": "code",
   "execution_count": 1,
   "metadata": {
    "collapsed": false
   },
   "outputs": [],
   "source": [
    "#참조: https://hunkim.github.io/ml/\n",
    "import tensorflow\n",
    "import gym\n",
    "import numpy as np\n",
    "import matplotlib.pyplot as plt \n",
    "from gym.envs.registration import register\n",
    "import random as pr\n"
   ]
  },
  {
   "cell_type": "code",
   "execution_count": null,
   "metadata": {
    "collapsed": false
   },
   "outputs": [],
   "source": [
    "def rargmax(vector):\n",
    "    # amax는 최고 값을 가지는 index를 무작위로 선택한다. \n",
    "    m = np.amax(vector)\n",
    "    indices = np.nonzero(vector == m)[0]\n",
    "    return pr.choice(indices)\n",
    "\n",
    "register(\n",
    "    id = 'FrozenLake-v3',\n",
    "    entry_point = 'gym.envs.toy_text:FrozenLakeEnv',\n",
    "    kwargs = {\n",
    "        'map_name': '4x4',\n",
    "        'is_slippery': False\n",
    "    }\n",
    ")\n",
    "\n",
    "env = gym.make('FrozenLake-v3')\n",
    "# Q-table 초기화\n",
    "Q = np.zeros([env.observation_space.n, env.action_space.n])\n",
    "# learning 횟수\n",
    "num_episodes = 2000\n",
    "# 학습 시 reward 저장\n",
    "rList = []"
   ]
  },
  {
   "cell_type": "code",
   "execution_count": null,
   "metadata": {
    "collapsed": false
   },
   "outputs": [],
   "source": [
    "for i in range(num_episodes):\n",
    "    # env 리셋\n",
    "    state = env.reset()\n",
    "    rAll = 0\n",
    "    done = False\n",
    "    # Q-table Learning algorithm\n",
    "    while not done:\n",
    "        action = rargmax(Q[state, :])\n",
    "        \n",
    "        # new_state, reward 업데이트 \n",
    "        new_state, reward, done, _ = env.step(action)\n",
    "        \n",
    "        # update Q-table\n",
    "        Q[state, action] = reward + np.max(Q[new_state, :])\n",
    "        \n",
    "        rAll += reward\n",
    "        state = new_state\n",
    "        \n",
    "        \n",
    "    \n",
    "    rList.append(rAll)"
   ]
  },
  {
   "cell_type": "code",
   "execution_count": null,
   "metadata": {
    "collapsed": false
   },
   "outputs": [],
   "source": [
    "print('success rate: ', str(sum(rList)/num_episodes))\n",
    "print('Final Q-table values')\n",
    "print(Q)\n",
    "plt.bar(range(len(rList)), rList, color = 'blue')\n",
    "plt.show()"
   ]
  },
  {
   "cell_type": "code",
   "execution_count": null,
   "metadata": {
    "collapsed": true
   },
   "outputs": [],
   "source": []
  }
 ],
 "metadata": {
  "anaconda-cloud": {},
  "kernelspec": {
   "display_name": "Python [default]",
   "language": "python",
   "name": "python3"
  },
  "language_info": {
   "codemirror_mode": {
    "name": "ipython",
    "version": 3
   },
   "file_extension": ".py",
   "mimetype": "text/x-python",
   "name": "python",
   "nbconvert_exporter": "python",
   "pygments_lexer": "ipython3",
   "version": "3.5.2"
  }
 },
 "nbformat": 4,
 "nbformat_minor": 1
}
