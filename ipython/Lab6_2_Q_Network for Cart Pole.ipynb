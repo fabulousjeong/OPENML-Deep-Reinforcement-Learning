{
 "cells": [
  {
   "cell_type": "code",
   "execution_count": 1,
   "metadata": {
    "collapsed": true
   },
   "outputs": [],
   "source": [
    "#참조: https://hunkim.github.io/ml/\n",
    "import gym\n",
    "import numpy as np\n",
    "import tensorflow as tf\n",
    "import matplotlib.pyplot as plt\n"
   ]
  },
  {
   "cell_type": "code",
   "execution_count": 2,
   "metadata": {
    "collapsed": false
   },
   "outputs": [
    {
     "name": "stderr",
     "output_type": "stream",
     "text": [
      "[2017-07-18 19:56:26,340] Making new env: CartPole-v0\n"
     ]
    }
   ],
   "source": [
    "env = gym.make('CartPole-v0')\n",
    "\n",
    "#input and output size based on the env\n",
    "learning_rate = 0.1\n",
    "input_size = env.observation_space.shape[0]\n",
    "output_size = env.action_space.n\n",
    "\n",
    "\n"
   ]
  },
  {
   "cell_type": "code",
   "execution_count": null,
   "metadata": {
    "collapsed": false
   },
   "outputs": [],
   "source": [
    "#establish FNN\n",
    "X = tf.placeholder(tf.float32, [None,input_size], name=\"input_x\")\n",
    "\n",
    "W1 = tf.get_variable('W1', shape = [input_size, output_size], initializer=tf.contrib.layers.xavier_initializer())\n",
    "print('input_size {}, output_size {}'.format(input_size, output_size))\n",
    "Qpred = tf.matmul(X,W1)\n",
    "print(Qpred.get_shape())\n",
    "Y = tf.placeholder(shape=[None, output_size], dtype=tf.float32)\n",
    "\n",
    "loss = tf.reduce_sum(tf.square(Y-Qpred))\n",
    "\n",
    "train = tf.train.AdamOptimizer(learning_rate = learning_rate).minimize(loss)\n",
    "\n",
    "dis = .9\n",
    "num_episodes = 2000\n",
    "\n",
    "rList = []\n",
    "\n",
    "init = tf.global_variables_initializer()\n",
    "\n",
    "sess = tf.Session()\n",
    "sess.run(init)\n",
    "\n",
    "for i in range(num_episodes):\n",
    "    e = 1. / ((i / 10) + 1)\n",
    "    step_count = 0\n",
    "    s = env.reset()\n",
    "    done = False\n",
    "    \n",
    "\n",
    "    while not done:\n",
    "        step_count += 1\n",
    "        x = np.reshape(s, [1, input_size]) \n",
    "        Qs = sess.run(Qpred, feed_dict = {X: x})\n",
    "        if np.random.rand(1) < e :\n",
    "            a = env.action_space.sample()\n",
    "        else:\n",
    "            a = np.argmax(Qs)\n",
    "\n",
    "        s1, reward, done, _ = env.step(a)\n",
    "\n",
    "        if done:\n",
    "            Qs[0,a] = -100\n",
    "        else:\n",
    "            x1 = np.reshape(s1, [1, input_size])\n",
    "            Qs1 = sess.run(Qpred, feed_dict={X: x1})\n",
    "            Qs[0,a] = reward + dis * np.max(Qs1)\n",
    "        sess.run(train, feed_dict = {X: x, Y: Qs})\n",
    "\n",
    "        s = s1\n",
    "    rList.append(step_count)\n",
    "    print('Episodes: {} steps: {} '.format(i, step_count))\n",
    "    if len(rList) > 1000 and np.mean(rList[-10:] > 500):\n",
    "        break\n",
    "\n"
   ]
  },
  {
   "cell_type": "code",
   "execution_count": null,
   "metadata": {
    "collapsed": false
   },
   "outputs": [],
   "source": [
    "observation = env.reset()\n",
    "reward_sum = 0\n",
    "while True:\n",
    "    env.render()\n",
    "    \n",
    "    x = np.reshape(observation, [1, input_size])\n",
    "    Qs = sess.run(Qpred, feed_dict = {X: x})\n",
    "    a = np.argmax(Qs)\n",
    "    \n",
    "    observation, reward, done, _ = env.step(a)\n",
    "    reward_sum += reward\n",
    "    \n",
    "    if done:\n",
    "        print('total score: {}'.format(reward_sum))\n",
    "        break"
   ]
  },
  {
   "cell_type": "code",
   "execution_count": null,
   "metadata": {
    "collapsed": true
   },
   "outputs": [],
   "source": []
  }
 ],
 "metadata": {
  "anaconda-cloud": {},
  "kernelspec": {
   "display_name": "Python [default]",
   "language": "python",
   "name": "python3"
  },
  "language_info": {
   "codemirror_mode": {
    "name": "ipython",
    "version": 3
   },
   "file_extension": ".py",
   "mimetype": "text/x-python",
   "name": "python",
   "nbconvert_exporter": "python",
   "pygments_lexer": "ipython3",
   "version": "3.5.2"
  }
 },
 "nbformat": 4,
 "nbformat_minor": 1
}
